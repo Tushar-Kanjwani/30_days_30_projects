{
  "nbformat": 4,
  "nbformat_minor": 0,
  "metadata": {
    "colab": {
      "provenance": []
    },
    "kernelspec": {
      "name": "python3",
      "display_name": "Python 3"
    },
    "language_info": {
      "name": "python"
    }
  },
  "cells": [
    {
      "cell_type": "code",
      "execution_count": 2,
      "metadata": {
        "id": "Ggwed6-JtbN8"
      },
      "outputs": [],
      "source": [
        "import pandas as pd\n",
        "from sklearn.model_selection import train_test_split\n",
        "from sklearn.linear_model import LogisticRegression\n",
        "from sklearn.metrics import confusion_matrix, accuracy_score, precision_score, recall_score, f1_score\n",
        "import seaborn as sns\n",
        "import matplotlib.pyplot as plt"
      ]
    },
    {
      "cell_type": "code",
      "source": [
        "# load the dataset and split it into training and testing sets\n",
        "data = pd.read_csv('spambase.csv')\n",
        "X= data.drop('spam', axis=1 )\n",
        "y= data['spam']\n",
        "\n"
      ],
      "metadata": {
        "id": "TGTsFp7E961i"
      },
      "execution_count": 5,
      "outputs": []
    },
    {
      "cell_type": "code",
      "source": [
        "X_train, X_test, y_train,y_test = train_test_split(X,y,test_size=0.2,random_state=42)\n",
        "\n",
        "#Train the logistic regression model\n",
        "model = LogisticRegression()\n",
        "model.fit(X_train,y_train)\n",
        "y_pred = model.predict(X_test)\n",
        "print(X_test)"
      ],
      "metadata": {
        "colab": {
          "base_uri": "https://localhost:8080/"
        },
        "id": "YBzL3RLUGYYY",
        "outputId": "dceeee1b-9ec4-4fa9-d1f5-1da81265135a"
      },
      "execution_count": 6,
      "outputs": [
        {
          "output_type": "stream",
          "name": "stdout",
          "text": [
            "      word_freq_make  word_freq_address  word_freq_all  word_freq_3d  \\\n",
            "3683            0.00                0.0           0.00           0.0   \n",
            "4412            0.71                0.0           0.71           0.0   \n",
            "2584            0.00                0.0           0.91           0.0   \n",
            "69              0.00                0.0           0.00           0.0   \n",
            "1844            0.00                0.0           0.54           0.0   \n",
            "...              ...                ...            ...           ...   \n",
            "1068            0.16                0.0           0.67           0.0   \n",
            "4351            0.00                0.0           0.00           0.0   \n",
            "3027            0.00                0.0           1.60           0.0   \n",
            "3455            0.75                0.0           0.00           0.0   \n",
            "1898            0.00                2.4           0.00           0.0   \n",
            "\n",
            "      word_freq_our  word_freq_over  word_freq_remove  word_freq_internet  \\\n",
            "3683           0.00            0.00              0.00                0.00   \n",
            "4412           0.00            0.00              0.00                0.00   \n",
            "2584           0.00            0.00              0.00                0.45   \n",
            "69             0.00            0.00              0.00                0.00   \n",
            "1844           0.00            0.00              0.00                0.00   \n",
            "...             ...             ...               ...                 ...   \n",
            "1068           0.33            0.16              0.33                0.84   \n",
            "4351           0.00            0.00              0.00                0.00   \n",
            "3027           0.00            0.00              0.00                0.00   \n",
            "3455           0.00            0.00              0.37                0.00   \n",
            "1898           0.80            0.00              0.00                0.00   \n",
            "\n",
            "      word_freq_order  word_freq_mail  ...  word_freq_conference  char_freq_;  \\\n",
            "3683             0.00            0.00  ...                   0.0         0.00   \n",
            "4412             0.00            0.71  ...                   0.0         0.00   \n",
            "2584             0.00            0.00  ...                   0.0         0.00   \n",
            "69               0.00            0.00  ...                   0.0         0.00   \n",
            "1844             0.00            0.00  ...                   0.0         0.00   \n",
            "...               ...             ...  ...                   ...          ...   \n",
            "1068             0.16            0.50  ...                   0.0         0.00   \n",
            "4351             0.00            0.00  ...                   0.0         0.00   \n",
            "3027             0.00            0.00  ...                   0.0         0.00   \n",
            "3455             0.00            0.37  ...                   0.0         0.00   \n",
            "1898             0.00            0.00  ...                   0.0         0.12   \n",
            "\n",
            "      char_freq_(  char_freq_[  char_freq_!  char_freq_$  char_freq_#  \\\n",
            "3683        0.000        0.000        0.000        0.000          0.0   \n",
            "4412        0.000        0.000        0.000        0.000          0.0   \n",
            "2584        0.000        0.000        0.000        0.000          0.0   \n",
            "69          0.201        0.000        0.000        0.100          0.0   \n",
            "1844        0.188        0.047        0.000        0.000          0.0   \n",
            "...           ...          ...          ...          ...          ...   \n",
            "1068        0.224        0.000        1.151        0.056          0.0   \n",
            "4351        0.000        0.000        0.000        0.000          0.0   \n",
            "3027        0.250        0.000        0.000        0.000          0.0   \n",
            "3455        0.099        0.597        0.000        0.000          0.0   \n",
            "1898        0.000        0.000        0.000        0.000          0.0   \n",
            "\n",
            "      capital_run_length_average  capital_run_length_longest  \\\n",
            "3683                       1.000                           1   \n",
            "4412                       1.032                           2   \n",
            "2584                       1.320                           7   \n",
            "69                         4.548                          59   \n",
            "1844                       1.745                          12   \n",
            "...                          ...                         ...   \n",
            "1068                       4.928                          63   \n",
            "4351                       1.000                           1   \n",
            "3027                       2.065                          12   \n",
            "3455                       2.125                          13   \n",
            "1898                       1.696                          15   \n",
            "\n",
            "      capital_run_length_total  \n",
            "3683                         3  \n",
            "4412                        32  \n",
            "2584                       103  \n",
            "69                         141  \n",
            "1844                        89  \n",
            "...                        ...  \n",
            "1068                       621  \n",
            "4351                         3  \n",
            "3027                        95  \n",
            "3455                        85  \n",
            "1898                        56  \n",
            "\n",
            "[921 rows x 57 columns]\n"
          ]
        },
        {
          "output_type": "stream",
          "name": "stderr",
          "text": [
            "/usr/local/lib/python3.11/dist-packages/sklearn/linear_model/_logistic.py:465: ConvergenceWarning: lbfgs failed to converge (status=1):\n",
            "STOP: TOTAL NO. OF ITERATIONS REACHED LIMIT.\n",
            "\n",
            "Increase the number of iterations (max_iter) or scale the data as shown in:\n",
            "    https://scikit-learn.org/stable/modules/preprocessing.html\n",
            "Please also refer to the documentation for alternative solver options:\n",
            "    https://scikit-learn.org/stable/modules/linear_model.html#logistic-regression\n",
            "  n_iter_i = _check_optimize_result(\n"
          ]
        }
      ]
    },
    {
      "cell_type": "code",
      "source": [
        "#Evaluate the model using accuracy, confusion matrix, precision, recall and F1 score\n",
        "accuracy= accuracy_score(y_test,y_pred)\n",
        "precision= precision_score(y_test, y_pred)\n",
        "recall= recall_score(y_test,y_pred)\n",
        "f1 = f1_score(y_test,y_pred)"
      ],
      "metadata": {
        "id": "GUZsLoTGHIpY"
      },
      "execution_count": 9,
      "outputs": []
    },
    {
      "cell_type": "code",
      "source": [
        "print(f\"Accuracy: {accuracy}\")\n",
        "print(f\"precision: {precision}\")\n",
        "print(f\"Recall: {recall}\")\n",
        "print(f\"f1-Score: {f1}\")"
      ],
      "metadata": {
        "colab": {
          "base_uri": "https://localhost:8080/"
        },
        "id": "EWOFKMo2IIwW",
        "outputId": "3def435d-8c9f-4293-ab08-4ae1414fdd63"
      },
      "execution_count": 10,
      "outputs": [
        {
          "output_type": "stream",
          "name": "stdout",
          "text": [
            "Accuracy: 0.9250814332247557\n",
            "precision: 0.9190600522193212\n",
            "Recall: 0.9025641025641026\n",
            "f1-Score: 0.9107373868046572\n"
          ]
        }
      ]
    },
    {
      "cell_type": "code",
      "source": [
        "#visiualize the confusion matrix using seabons heatmap\n",
        "cm= confusion_matrix(y_test,y_pred)\n",
        "sns.heatmap(cm, annot=True, fmt='d')\n",
        "plt.title(\"Confusion Matrix\")\n",
        "plt.show()"
      ],
      "metadata": {
        "colab": {
          "base_uri": "https://localhost:8080/",
          "height": 452
        },
        "id": "PbYhbQuZJwst",
        "outputId": "0f02c214-eac8-4080-d433-a37eb0cbb23d"
      },
      "execution_count": 14,
      "outputs": [
        {
          "output_type": "display_data",
          "data": {
            "text/plain": [
              "<Figure size 640x480 with 2 Axes>"
            ],
            "image/png": "[encoded data removed]"
          },
          "metadata": {}
        }
      ]
    },
    {
      "cell_type": "code",
      "source": [
        ""
      ],
      "metadata": {
        "id": "04Ou6iLmJ6z7"
      },
      "execution_count": null,
      "outputs": []
    }
  ]
}
