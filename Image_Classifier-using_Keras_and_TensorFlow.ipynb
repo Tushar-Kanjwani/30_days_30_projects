{
 "cells": [
  {
   "cell_type": "code",
   "execution_count": null,
   "id": "1f2b0709-d140-4294-8fdc-8facaa361b54",
   "metadata": {},
   "outputs": [],
   "source": [
    "pip install tensorflow"
   ]
  },
  {
   "cell_type": "code",
   "execution_count": 11,
   "id": "9c914d1e-d24a-4284-b175-98fead92ebae",
   "metadata": {},
   "outputs": [],
   "source": [
    "import numpy as np\n",
    "import tensorflow as tf\n",
    "from tensorflow.keras import datasets, layers, models\n",
    "from tensorflow.keras.utils import to_categorical\n",
    "import matplotlib.pyplot as plt"
   ]
  },
  {
   "cell_type": "code",
   "execution_count": 2,
   "id": "406dccfd-1722-470e-a079-39194e278873",
   "metadata": {},
   "outputs": [],
   "source": [
    "#load the MNIST dataset\n",
    "(train_images , train_labels), (test_images, test_labels) = datasets.mnist.load_data()"
   ]
  },
  {
   "cell_type": "code",
   "execution_count": 3,
   "id": "923bd85c-f5eb-4791-9754-54ed0d855b41",
   "metadata": {},
   "outputs": [],
   "source": [
    "#preprocessing normalize the pixel values to between 0 to 1\n",
    "train_images = train_images /255.0\n",
    "test_images = test_images /255.0"
   ]
  },
  {
   "cell_type": "code",
   "execution_count": 4,
   "id": "da4b5d38-430d-4fd5-939e-3af7377d2bd9",
   "metadata": {},
   "outputs": [],
   "source": [
    "#Reshape the image to (28,28,1) as they are grayscale\n",
    "train_images=train_images.reshape((train_images.shape[0],28,28,1))\n",
    "test_images= test_images.reshape((test_images.shape[0],28,28,1))\n"
   ]
  },
  {
   "cell_type": "code",
   "execution_count": 5,
   "id": "2c4fb024-cb68-4543-a568-d81bb7417259",
   "metadata": {},
   "outputs": [],
   "source": [
    "#convert labels into one-hot encoded format\n",
    "train_labels = to_categorical(train_labels)\n",
    "test_labels = to_categorical(test_labels)"
   ]
  },
  {
   "cell_type": "code",
   "execution_count": 6,
   "id": "d3fae3b6-2e0c-4de1-ad8c-32a98a45247b",
   "metadata": {},
   "outputs": [
    {
     "name": "stderr",
     "output_type": "stream",
     "text": [
      "C:\\Users\\tusha\\AppData\\Roaming\\Python\\Python310\\site-packages\\keras\\src\\layers\\convolutional\\base_conv.py:113: UserWarning: Do not pass an `input_shape`/`input_dim` argument to a layer. When using Sequential models, prefer using an `Input(shape)` object as the first layer in the model instead.\n",
      "  super().__init__(activity_regularizer=activity_regularizer, **kwargs)\n"
     ]
    }
   ],
   "source": [
    "#build the CNN model\n",
    "model = models.Sequential()\n",
    "\n",
    "#First Convolutional Layer\n",
    "model.add(layers.Conv2D(32,(3,3),activation= 'relu', input_shape=(28,28,1)))\n",
    "model.add(layers.MaxPooling2D((2,2)))\n",
    "\n",
    "#Second Convolutional Layer\n",
    "model.add(layers.Conv2D(64,(3,3),activation ='relu'))\n",
    "model.add(layers.MaxPooling2D((2,2)))\n",
    "\n",
    "#Third Convolutional Layer\n",
    "model.add(layers.Conv2D(64,(3,3), activation = 'relu'))\n",
    "\n",
    "#Flatten the 3D output to 1D and add a Danse layer\n",
    "model.add(layers.Flatten())\n",
    "model.add(layers.Dense(64,activation='relu'))\n",
    "\n",
    "#Output layer with 10 neurons (for 10 digit classes)\n",
    "model.add(layers.Dense(10, activation= 'softmax'))\n",
    "\n",
    "#compile model\n",
    "model.compile(optimizer = 'adam', loss= 'categorical_crossentropy', metrics=['accuracy'])\n"
   ]
  },
  {
   "cell_type": "code",
   "execution_count": 9,
   "id": "e5a36b0a-1d72-4c0c-aca5-4ab8d33b8710",
   "metadata": {},
   "outputs": [
    {
     "name": "stdout",
     "output_type": "stream",
     "text": [
      "Epoch 1/5\n",
      "\u001b[1m938/938\u001b[0m \u001b[32m━━━━━━━━━━━━━━━━━━━━\u001b[0m\u001b[37m\u001b[0m \u001b[1m17s\u001b[0m 16ms/step - accuracy: 0.9449 - loss: 0.1807 - val_accuracy: 0.9832 - val_loss: 0.0491\n",
      "Epoch 2/5\n",
      "\u001b[1m938/938\u001b[0m \u001b[32m━━━━━━━━━━━━━━━━━━━━\u001b[0m\u001b[37m\u001b[0m \u001b[1m17s\u001b[0m 18ms/step - accuracy: 0.9844 - loss: 0.0479 - val_accuracy: 0.9851 - val_loss: 0.0459\n",
      "Epoch 3/5\n",
      "\u001b[1m938/938\u001b[0m \u001b[32m━━━━━━━━━━━━━━━━━━━━\u001b[0m\u001b[37m\u001b[0m \u001b[1m16s\u001b[0m 17ms/step - accuracy: 0.9894 - loss: 0.0337 - val_accuracy: 0.9880 - val_loss: 0.0372\n",
      "Epoch 4/5\n",
      "\u001b[1m938/938\u001b[0m \u001b[32m━━━━━━━━━━━━━━━━━━━━\u001b[0m\u001b[37m\u001b[0m \u001b[1m17s\u001b[0m 19ms/step - accuracy: 0.9921 - loss: 0.0264 - val_accuracy: 0.9892 - val_loss: 0.0306\n",
      "Epoch 5/5\n",
      "\u001b[1m938/938\u001b[0m \u001b[32m━━━━━━━━━━━━━━━━━━━━\u001b[0m\u001b[37m\u001b[0m \u001b[1m17s\u001b[0m 18ms/step - accuracy: 0.9923 - loss: 0.0228 - val_accuracy: 0.9889 - val_loss: 0.0342\n"
     ]
    },
    {
     "data": {
      "text/plain": [
       "<keras.src.callbacks.history.History at 0x134f13ef040>"
      ]
     },
     "execution_count": 9,
     "metadata": {},
     "output_type": "execute_result"
    }
   ],
   "source": [
    "#Train the model\n",
    "model.fit(train_images, train_labels, epochs=5, batch_size=64, validation_data=(test_images, test_labels))"
   ]
  },
  {
   "cell_type": "code",
   "execution_count": 10,
   "id": "4dce79e3-a9d9-420d-afca-bf6243d937c1",
   "metadata": {},
   "outputs": [
    {
     "name": "stdout",
     "output_type": "stream",
     "text": [
      "\u001b[1m313/313\u001b[0m \u001b[32m━━━━━━━━━━━━━━━━━━━━\u001b[0m\u001b[37m\u001b[0m \u001b[1m2s\u001b[0m 5ms/step - accuracy: 0.9889 - loss: 0.0342\n",
      "Test accuracy: 98.89%\n"
     ]
    }
   ],
   "source": [
    "#Evaluate the model on test data\n",
    "test_loss, test_acc =model.evaluate(test_images,test_labels)\n",
    "print(f\"Test accuracy: {test_acc *100:.2f}%\")\n"
   ]
  },
  {
   "cell_type": "code",
   "execution_count": 12,
   "id": "e3337aed-4c94-4ce6-8768-9637d56ed2ef",
   "metadata": {},
   "outputs": [
    {
     "name": "stdout",
     "output_type": "stream",
     "text": [
      "\u001b[1m313/313\u001b[0m \u001b[32m━━━━━━━━━━━━━━━━━━━━\u001b[0m\u001b[37m\u001b[0m \u001b[1m1s\u001b[0m 4ms/step\n",
      "prediction for first test image : 7\n"
     ]
    }
   ],
   "source": [
    "#make prediction on test images\n",
    "predictions = model.predict(test_images)\n",
    "print(f\"prediction for first test image : {np.argmax(predictions[0])}\")"
   ]
  },
  {
   "cell_type": "code",
   "execution_count": 14,
   "id": "9bf82f58-9c07-4fa1-b540-9e9a8508f38b",
   "metadata": {},
   "outputs": [
    {
     "data": {
      "image/png": "[encoded data removed]",
      "text/plain": [
       "<Figure size 640x480 with 1 Axes>"
      ]
     },
     "metadata": {},
     "output_type": "display_data"
    }
   ],
   "source": [
    "plt.imshow(test_images[0].reshape(28,28), cmap='gray')\n",
    "plt.title (f\"predicted Label: {predictions[0].argmax()}\")\n",
    "plt.show()"
   ]
  },
  {
   "cell_type": "code",
   "execution_count": null,
   "id": "7ad875f2-d267-4266-84a6-d1a80ec73fbc",
   "metadata": {},
   "outputs": [],
   "source": []
  }
 ],
 "metadata": {
  "kernelspec": {
   "display_name": "Python 3 (ipykernel)",
   "language": "python",
   "name": "python3"
  },
  "language_info": {
   "codemirror_mode": {
    "name": "ipython",
    "version": 3
   },
   "file_extension": ".py",
   "mimetype": "text/x-python",
   "name": "python",
   "nbconvert_exporter": "python",
   "pygments_lexer": "ipython3",
   "version": "3.10.11"
  }
 },
 "nbformat": 4,
 "nbformat_minor": 5
}
