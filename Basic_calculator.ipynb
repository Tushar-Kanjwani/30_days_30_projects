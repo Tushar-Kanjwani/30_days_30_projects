{
 "cells": [
  {
   "cell_type": "code",
   "execution_count": 1,
   "id": "27a653e1-826a-4fb6-a86a-8f2f2ffc1667",
   "metadata": {},
   "outputs": [],
   "source": [
    "#Function to add two number\n",
    "def add(x,y):\n",
    "    return x+y"
   ]
  },
  {
   "cell_type": "code",
   "execution_count": 2,
   "id": "a3eb24fa-3e6d-4e59-8583-6e924327255d",
   "metadata": {},
   "outputs": [],
   "source": [
    "#Function to subtract two number\n",
    "def subtract(x,y):\n",
    "    return x-y"
   ]
  },
  {
   "cell_type": "code",
   "execution_count": 3,
   "id": "d1746812-795f-40cd-b293-f68db887dadd",
   "metadata": {},
   "outputs": [],
   "source": [
    "#Function to multiply two number\n",
    "def multiply(x,y):\n",
    "    return x*y"
   ]
  },
  {
   "cell_type": "code",
   "execution_count": 4,
   "id": "81a54e68-cf74-47d9-83a5-d14b5b2bd26b",
   "metadata": {},
   "outputs": [],
   "source": [
    "#Function to divide two nu{{mber\n",
    "def divide(x,y):\n",
    "    if y==0:\n",
    "        return \"∞\"\n",
    "    else:\n",
    "        return x/y"
   ]
  },
  {
   "cell_type": "code",
   "execution_count": 21,
   "id": "cb04698a-605e-4e9e-9306-d6f2b77823ee",
   "metadata": {},
   "outputs": [
    {
     "name": "stdout",
     "output_type": "stream",
     "text": [
      "Select Choice\n",
      "1. Addition\n",
      "2. Addition\n",
      "3. Addition\n",
      "4. Addition\n"
     ]
    },
    {
     "name": "stdin",
     "output_type": "stream",
     "text": [
      "Enter choice (1,2,3,4): 1\n",
      "Enter your first number: 1\n",
      "Enter your second number: 1\n"
     ]
    },
    {
     "name": "stdout",
     "output_type": "stream",
     "text": [
      "1.0 + 1.0 = 2.0\n"
     ]
    },
    {
     "name": "stdin",
     "output_type": "stream",
     "text": [
      "Do you want perform more operation (Y/N): Y\n",
      "Enter choice (1,2,3,4): 1\n",
      "Enter your first number: 1\n",
      "Enter your second number: 1\n"
     ]
    },
    {
     "name": "stdout",
     "output_type": "stream",
     "text": [
      "1.0 + 1.0 = 2.0\n"
     ]
    },
    {
     "name": "stdin",
     "output_type": "stream",
     "text": [
      "Do you want perform more operation (Y/N): N\n"
     ]
    },
    {
     "name": "stdout",
     "output_type": "stream",
     "text": [
      "Exiting Calculator\n"
     ]
    }
   ],
   "source": [
    " def calculator():\n",
    "    print(\"Select Choice\")\n",
    "    print(\"1. Addition\")\n",
    "    print(\"2. Addition\")\n",
    "    print(\"3. Addition\")\n",
    "    print(\"4. Addition\")\n",
    "\n",
    "    while True:\n",
    "        choice = (input(\"Enter choice (1,2,3,4):\"))\n",
    "        #check\n",
    "        if choice in ['1','2','3','4']:\n",
    "            num1= float(input(f\"Enter your first number:\"))\n",
    "            num2= float(input(f\"Enter your second number:\"))\n",
    "            \n",
    "            if choice == '1':\n",
    "                print(f\"{num1} + {num2} = {add(num1,num2)}\")\n",
    "            if choice == '2':\n",
    "                print(f\"{num1} - {num2} = {subtract(num1,num2)}\")\n",
    "            if choice == '3':\n",
    "                print(f\"{num1} * {num2} = {multiply(num1,num2)}\")\n",
    "            if choice == '4':\n",
    "                print(f\"{num1} / {num2} = {divide(num1,num2)}\")\n",
    "\n",
    "            next_cal = input(\"Do you want perform more operation (Y/N):\")\n",
    "            if next_cal.lower() != 'y':\n",
    "                break\n",
    "\n",
    "    print(\"Exiting Calculator\")\n",
    "\n",
    "calculator()\n",
    "            \n",
    "                    "
   ]
  },
  {
   "cell_type": "code",
   "execution_count": null,
   "id": "b2048c75-87ff-4b34-8527-3b95cdafcafd",
   "metadata": {},
   "outputs": [],
   "source": []
  }
 ],
 "metadata": {
  "kernelspec": {
   "display_name": "Python 3 (ipykernel)",
   "language": "python",
   "name": "python3"
  },
  "language_info": {
   "codemirror_mode": {
    "name": "ipython",
    "version": 3
   },
   "file_extension": ".py",
   "mimetype": "text/x-python",
   "name": "python",
   "nbconvert_exporter": "python",
   "pygments_lexer": "ipython3",
   "version": "3.12.6"
  }
 },
 "nbformat": 4,
 "nbformat_minor": 5
}
