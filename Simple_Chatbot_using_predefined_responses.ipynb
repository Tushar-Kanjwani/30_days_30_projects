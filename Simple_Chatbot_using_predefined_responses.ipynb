{
 "cells": [
  {
   "cell_type": "code",
   "execution_count": 1,
   "id": "8830f2aa-3992-46a3-b5a4-34e57abd2b1e",
   "metadata": {},
   "outputs": [],
   "source": [
    "#Import the Regular expression module to handle pattern matching \n",
    "import re"
   ]
  },
  {
   "cell_type": "code",
   "execution_count": 23,
   "id": "189f87d0-1de3-41f9-a941-90c7f40bac4f",
   "metadata": {},
   "outputs": [],
   "source": [
    "#A dictionary that maps keywords to predefined responses\n",
    "responses = {\n",
    "\n",
    "    # Greetings\n",
    "    \"hello|hi|hey|good morning|good afternoon|good evening\": \"Hello! How can I help you regarding CSE Sukkur IBA?\",\n",
    "    \"how are you|how is everything|how is it going\": \"I'm doing great, thanks for asking! How can I assist you today?\",\n",
    "\n",
    "    # Department Intro\n",
    "    \"what is cse|what is cse department|tell me about cse|about computer systems engineering|cse intro\": \n",
    "        \"The Computer Systems Engineering (CSE) Department at Sukkur IBA University focuses on both hardware and software skills to design intelligent systems for real-world applications.\",\n",
    "    \"what does cse stand for|cse meaning|full form of cse\": \"CSE stands for Computer Systems Engineering.\",\n",
    "    \"when was cse department established\": \"The CSE Department was established as part of Sukkur IBA's vision to provide modern engineering education.\",\n",
    "\n",
    "    # Vision & Mission\n",
    "    \"vision of cse|goal of cse department\": \"To become a state-of-the-art department in the field of computer systems engineering.\",\n",
    "    \"mission of cse|objective of cse department|aim of cse\": \n",
    "        \"To produce quality engineers with problem-solving, communication, and management skills, ready for industry, startups, and academia.\",\n",
    "\n",
    "    # Programs\n",
    "    \"what programs are offered|degree in cse|courses in cse|study in cse\": \n",
    "        \"The department offers a 4-year Bachelor of Engineering (BE) in Computer Systems Engineering.\",\n",
    "    \"duration of be cse|how many years is be cse\": \"The BE in Computer Systems Engineering is a 4-year degree program.\",\n",
    "    \"is be cse accredited\": \"Yes, the BE CSE program follows the accreditation standards set by relevant engineering councils.\",\n",
    "\n",
    "    # Admission\n",
    "    \"how can i apply for admission|admission procedure|how to take admission\": \n",
    "        \"You can apply for admission to BE-CSE through Sukkur IBA University's official admissions portal.\",\n",
    "    \"eligibility for admission|requirements for admission\": \n",
    "        \"Admission requirements follow Sukkur IBA's eligibility criteria for engineering programs. Please refer to the admissions page.\",\n",
    "    \"when are admissions open|admission dates\": \n",
    "        \"Admissions typically open as per the university's academic calendar. Check the official website for dates.\",\n",
    "\n",
    "    # Faculty\n",
    "    \"who is the hod|head of department cse\": \n",
    "        \"The Head of Department is Abdul Sattar Chan, Associate Professor, email: abdul.sattar@iba-suk.edu.pk\",\n",
    "    \"faculty list|teachers of cse|lecturers in cse\": \n",
    "        \"Faculty members include Abdul Sattar Chan, Junaid Ahmed, Irfan Mughal, Suresh Kumar, Mumtaz Ali Kaloi, Pirah Noor, Irfan Ali Babar, Asif Ali, and Umair Ayaz Kamangar.\",\n",
    "    \"faculty emails|contact faculty\": \n",
    "        \"Faculty emails abyere available on the department's faculty page for direct contact.\",\n",
    "\n",
    "    # Facilities\n",
    "    \"what facilities does cse have|cse labs|laboratories in cse|equipment in cse\": \n",
    "        \"The department has state-of-the-art hardware and software laboratories including embedded systems, programming, networking, and electronics labs.\",\n",
    "\n",
    "    # Student Resources\n",
    "    \"student resources|resources for students|support for students\": \n",
    "        \"Resources include class timetable, prospectus, student handbook, policies, hostel forms, CMS portal, LMS, grading policy, and exam regulations.\",\n",
    "    \"cms portal|how to use cms\": \"The CMS portal can be accessed via the university's official student portal.\",\n",
    "    \"lms|e learning\": \"The LMS (eLearning) system is available online for registered students.\",\n",
    "    \"grading policy|minimum cgpa\": \"The minimum CGPA requirement is as per university policy; typically 2.0 for graduation.\",\n",
    "    \"exam rules|examination regulations|exam dos and donts\": \"Exam regulations include attendance requirements, conduct during exams, and evaluation policies.\",\n",
    "\n",
    "    # Quotes\n",
    "    \"quote sydney j harris\": \"The real danger is not that computers will begin to think like men, but that men will begin to think like computers. – Sydney J. Harris\",\n",
    "    \"quote steve jobs\": \"Computers themselves, and software yet to be developed, will revolutionize the way we learn. – Steve Jobs\",\n",
    "    \"quote bill gates problems\": \"The computer was born to solve problems that did not exist before. – Bill Gates\",\n",
    "    \"quote bill gates violin\": \"A computer is like a violin. You can imagine it making beautiful music, but you have to learn how to play it. – Bill Gates\",\n",
    "\n",
    "    # Contact Info\n",
    "    \"contact email|email of cse\": \"The CSE Department's email is f1@iba-suk.edu.pk\",\n",
    "    \"contact number|phone number|cse helpline\": \"+92 322 9721102 is the contact number for the CSE Department.\",\n",
    "    \"where is the cse department located|cse location|department address\": \n",
    "        \"Room No. 201, Academic Block III, Sukkur IBA University, Nisar Ahmed Siddiqui Road, Sukkur, Sindh, Pakistan.\",\n",
    "\n",
    "    # Scholarships\n",
    "    \"scholarships|financial aid\": \"Yes, scholarships are available based on merit and need. Check the scholarships page on the university website.\",\n",
    "    \"scholarship eligibility\": \"Eligibility for scholarships varies depending on the scholarship type.\",\n",
    "    \"apply for scholarship\": \"Scholarship applications are made through the university's scholarship portal or student affairs office.\",\n",
    "\n",
    "    # Labs & Research\n",
    "    \"research labs|do you have research facilities\": \"Yes, the department encourages research projects in labs such as embedded systems and AI.\",\n",
    "    \"can students do research|student research\": \"Yes, students can participate in research projects under faculty supervision.\",\n",
    "    \"final year projects|fyp in cse\": \"Yes, all BE-CSE students must complete a final year project as part of their degree.\",\n",
    "\n",
    "    # Alumni\n",
    "    \"alumni association|cse alumni\": \"The CSE Alumni Association connects graduates with the department and current students.\",\n",
    "    \"join alumni|register alumni\": \"Graduates can register through the Alumni Office or university website.\",\n",
    "\n",
    "    # Policies\n",
    "    \"withdrawal from course|drop a course\": \"Students can withdraw from a course as per the academic policy deadlines.\",\n",
    "    \"fee refund policy\": \"Fee refunds follow the university's refund schedule and policy.\",\n",
    "    \"attendance policy\": \"Attendance policy requires students to meet the minimum attendance percentage to sit for exams.\",\n",
    "\n",
    "    # Logical / Fun / General\n",
    "    \"who is smarter computer or human\": \"Humans created computers, so humans have creativity and reasoning. Computers process data faster, but humans have emotions and intuition.\",\n",
    "    \"what is artificial intelligence\": \"Artificial Intelligence is the simulation of human intelligence in machines that can think and learn.\",\n",
    "    \"can a computer think\": \"Computers can process and calculate, but they don't think like humans — they follow programmed logic.\",\n",
    "    \"future of cse|scope of cse\": \"CSE has a growing future in AI, robotics, IoT, and embedded systems.\",\n",
    "    \"what skills are needed for cse\": \"Skills include programming, problem-solving, electronics, communication, and teamwork.\",\n",
    "    \"is cse difficult\": \"CSE can be challenging but is rewarding if you have an interest in technology and problem-solving.\",\n",
    "    \"difference between computer science and computer systems engineering\": \n",
    "        \"Computer Science focuses more on software theory, while Computer Systems Engineering covers both hardware and software integration.\",\n",
    "\n",
    "    # Small talk\n",
    "    \"thank you|thanks\": \"You're welcome! Is there anything else I can help you with?\",\n",
    "    \"bye|goodbye|see you\": \"Goodbye! Have a great day.\",\n",
    "    \"who are you\": \"I am the Sukkur IBA CSE chatbot, here to answer your queries about the department.\",\n",
    "    \"default\": \"I'm not sure I understand. Could you please rephrase?\"\n",
    "}\n"
   ]
  },
  {
   "cell_type": "code",
   "execution_count": 24,
   "id": "20ea67c9-7c4f-41ec-a331-e0ee8de1fa06",
   "metadata": {},
   "outputs": [],
   "source": [
    "#Function to find the appropriate response based on the user's input\n",
    "def chatbot_response(user_input):\n",
    "    #convert user input to lowercase to make matching case-insensitive\n",
    "    user_input= user_input.lower()\n",
    "\n",
    "    for keyword in responses:\n",
    "        if re.search(keyword, user_input):\n",
    "            return responses[keyword]\n",
    "\n",
    "    return response[default]"
   ]
  },
  {
   "cell_type": "code",
   "execution_count": 25,
   "id": "79d0e57d-b500-4e85-997c-4140fd7fdd6e",
   "metadata": {},
   "outputs": [],
   "source": [
    "#main function to run the chatbot\n",
    "def chatbot():\n",
    "    print(\"Chatbot: Hello! I'm here to assist you. (type 'bye' to exit)\")\n",
    "\n",
    "    while True:\n",
    "        user_input = input(\"You: \")\n",
    "\n",
    "        if user_input.lower() =='bye':\n",
    "            print(\"Chatbot: GoodBye! hace a great day!\")\n",
    "            break\n",
    "\n",
    "        response = chatbot_response(user_input)\n",
    "\n",
    "        print(f\"Chatbot: {response}\")\n",
    "\n"
   ]
  },
  {
   "cell_type": "code",
   "execution_count": null,
   "id": "dc9c792f-1732-4e47-b9c9-72a885148ed2",
   "metadata": {},
   "outputs": [
    {
     "name": "stdout",
     "output_type": "stream",
     "text": [
      "Chatbot: Hello! I'm here to assist you. (type 'bye' to exit)\n"
     ]
    },
    {
     "name": "stdin",
     "output_type": "stream",
     "text": [
      "You:  what is CSE\n"
     ]
    },
    {
     "name": "stdout",
     "output_type": "stream",
     "text": [
      "Chatbot: The Computer Systems Engineering (CSE) Department at Sukkur IBA University focuses on both hardware and software skills to design intelligent systems for real-world applications.\n"
     ]
    }
   ],
   "source": [
    "chatbot()\n"
   ]
  },
  {
   "cell_type": "code",
   "execution_count": null,
   "id": "c063188d-66b9-49bd-b098-bf6862a06934",
   "metadata": {},
   "outputs": [],
   "source": []
  }
 ],
 "metadata": {
  "kernelspec": {
   "display_name": "Python 3 (ipykernel)",
   "language": "python",
   "name": "python3"
  },
  "language_info": {
   "codemirror_mode": {
    "name": "ipython",
    "version": 3
   },
   "file_extension": ".py",
   "mimetype": "text/x-python",
   "name": "python",
   "nbconvert_exporter": "python",
   "pygments_lexer": "ipython3",
   "version": "3.10.11"
  }
 },
 "nbformat": 4,
 "nbformat_minor": 5
}
