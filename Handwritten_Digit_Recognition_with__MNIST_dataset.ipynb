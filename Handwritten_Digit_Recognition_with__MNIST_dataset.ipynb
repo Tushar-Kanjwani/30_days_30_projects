{
  "nbformat": 4,
  "nbformat_minor": 0,
  "metadata": {
    "colab": {
      "provenance": []
    },
    "kernelspec": {
      "name": "python3",
      "display_name": "Python 3"
    },
    "language_info": {
      "name": "python"
    }
  },
  "cells": [
    {
      "cell_type": "code",
      "execution_count": 2,
      "metadata": {
        "id": "Ggwed6-JtbN8"
      },
      "outputs": [],
      "source": [
        "import pandas as pd\n",
        "from sklearn.model_selection import train_test_split\n",
        "from sklearn.ensemble import RandomForestClassifier\n",
        "from sklearn.metrics import confusion_matrix, accuracy_score, precision_score, recall_score, f1_score\n",
        "import seaborn as sns\n",
        "import matplotlib.pyplot as plt"
      ]
    },
    {
      "cell_type": "code",
      "source": [
        "# load the dataset and split it into training and testing sets\n",
        "data = pd.read_csv('har__data.csv')\n",
        "X= data.drop('Activity', axis=1 )\n",
        "y= data['Activity']"
      ],
      "metadata": {
        "id": "TGTsFp7E961i"
      },
      "execution_count": 3,
      "outputs": []
    },
    {
      "cell_type": "code",
      "source": [
        "X_train, X_test, y_train,y_test = train_test_split(X,y,test_size=0.2,random_state=42)\n",
        "\n",
        "#Train the Random Forest Classifier\n",
        "model = RandomForestClassifier(n_estimators=100, random_state=42)\n",
        "model.fit(X_train,y_train)\n",
        "y_pred = model.predict(X_test)\n",
        "print(X_test)"
      ],
      "metadata": {
        "colab": {
          "base_uri": "https://localhost:8080/"
        },
        "id": "YBzL3RLUGYYY",
        "outputId": "de9f7236-395c-414f-bd5a-c93f5e9f1e1c"
      },
      "execution_count": 5,
      "outputs": [
        {
          "output_type": "stream",
          "name": "stdout",
          "text": [
            "      tBodyAcc-mean()-X  tBodyAcc-mean()-Y  tBodyAcc-mean()-Z  \\\n",
            "5804           0.202351          -0.021717          -0.111851   \n",
            "3688           0.282814          -0.016686          -0.110004   \n",
            "7360           0.272529          -0.020954          -0.114472   \n",
            "3437           0.276408          -0.024315          -0.101067   \n",
            "8193           0.306400          -0.013045          -0.064768   \n",
            "...                 ...                ...                ...   \n",
            "4705           0.275866          -0.015977          -0.107413   \n",
            "858            0.276938          -0.010382          -0.104780   \n",
            "4043           0.275988          -0.010583          -0.107595   \n",
            "4190           0.293323          -0.008314          -0.086588   \n",
            "5137          -0.503823          -0.594207           0.264804   \n",
            "\n",
            "      tBodyAcc-std()-X  tBodyAcc-std()-Y  tBodyAcc-std()-Z  tBodyAcc-mad()-X  \\\n",
            "5804         -0.332095         -0.114114         -0.309439         -0.382582   \n",
            "3688         -0.994285         -0.973997         -0.988410         -0.994069   \n",
            "7360         -0.996784         -0.975906         -0.986597         -0.997029   \n",
            "3437         -0.995663         -0.973317         -0.976591         -0.996090   \n",
            "8193         -0.180371         -0.099780         -0.002085         -0.204581   \n",
            "...                ...               ...               ...               ...   \n",
            "4705         -0.995906         -0.988648         -0.980432         -0.996124   \n",
            "858          -0.995117         -0.979121         -0.968608         -0.995620   \n",
            "4043         -0.995333         -0.990080         -0.976474         -0.996158   \n",
            "4190         -0.985731         -0.943522         -0.934046         -0.986895   \n",
            "5137         -0.703402          0.672487         -0.464985         -0.704548   \n",
            "\n",
            "      tBodyAcc-mad()-Y  tBodyAcc-mad()-Z  tBodyAcc-max()-X  ...  \\\n",
            "5804         -0.161981         -0.308824          0.046627  ...   \n",
            "3688         -0.978087         -0.989570         -0.938192  ...   \n",
            "7360         -0.973735         -0.985556         -0.941263  ...   \n",
            "3437         -0.970965         -0.973102         -0.940314  ...   \n",
            "8193         -0.082737          0.031456         -0.095405  ...   \n",
            "...                ...               ...               ...  ...   \n",
            "4705         -0.989691         -0.981682         -0.937521  ...   \n",
            "858          -0.978551         -0.966391         -0.941381  ...   \n",
            "4043         -0.989422         -0.975154         -0.939539  ...   \n",
            "4190         -0.943477         -0.928269         -0.925988  ...   \n",
            "5137          0.967664         -0.401827         -0.948813  ...   \n",
            "\n",
            "      fBodyBodyGyroJerkMag-skewness()  fBodyBodyGyroJerkMag-kurtosis()  \\\n",
            "5804                         0.005777                        -0.313236   \n",
            "3688                         0.037980                        -0.366579   \n",
            "7360                        -0.629599                        -0.853248   \n",
            "3437                        -0.788724                        -0.937673   \n",
            "8193                        -0.009035                        -0.338551   \n",
            "...                               ...                              ...   \n",
            "4705                        -0.273757                        -0.641374   \n",
            "858                         -0.780039                        -0.944476   \n",
            "4043                        -0.012794                        -0.304988   \n",
            "4190                         0.145530                        -0.177694   \n",
            "5137                        -0.412991                        -0.718527   \n",
            "\n",
            "      angle(tBodyAccMean,gravity)  angle(tBodyAccJerkMean),gravityMean)  \\\n",
            "5804                     0.831735                              0.495929   \n",
            "3688                     0.072845                             -0.622912   \n",
            "7360                     0.144626                             -0.035564   \n",
            "3437                    -0.093666                              0.010872   \n",
            "8193                    -0.090383                             -0.780317   \n",
            "...                           ...                                   ...   \n",
            "4705                     0.313865                             -0.253926   \n",
            "858                     -0.012645                             -0.029589   \n",
            "4043                     0.088628                             -0.619847   \n",
            "4190                     0.002601                              0.163316   \n",
            "5137                     0.249525                              0.440171   \n",
            "\n",
            "      angle(tBodyGyroMean,gravityMean)  angle(tBodyGyroJerkMean,gravityMean)  \\\n",
            "5804                         -0.021844                             -0.621611   \n",
            "3688                         -0.090463                              0.313810   \n",
            "7360                         -0.181800                              0.087320   \n",
            "3437                         -0.407271                             -0.340803   \n",
            "8193                         -0.845675                             -0.048851   \n",
            "...                                ...                                   ...   \n",
            "4705                         -0.378042                              0.213856   \n",
            "858                          -0.004208                             -0.227811   \n",
            "4043                         -0.049650                              0.438233   \n",
            "4190                         -0.051404                             -0.014562   \n",
            "5137                         -0.007508                              0.343715   \n",
            "\n",
            "      angle(X,gravityMean)  angle(Y,gravityMean)  angle(Z,gravityMean)  \\\n",
            "5804             -0.843964              0.187828             -0.044740   \n",
            "3688              0.592963             -0.576030             -0.428127   \n",
            "7360             -0.685390              0.299394             -0.065491   \n",
            "3437             -0.704093              0.297943              0.061830   \n",
            "8193             -0.751484              0.069695              0.196049   \n",
            "...                    ...                   ...                   ...   \n",
            "4705             -0.997293              0.094215              0.021262   \n",
            "858              -0.847799              0.083619             -0.092706   \n",
            "4043             -0.937698              0.117340              0.059204   \n",
            "4190             -0.606721              0.325398              0.167502   \n",
            "5137              0.683948             -0.505728             -0.495238   \n",
            "\n",
            "      subject  \n",
            "5804       26  \n",
            "3688       19  \n",
            "7360        2  \n",
            "3437       17  \n",
            "8193        9  \n",
            "...       ...  \n",
            "4705       23  \n",
            "858         5  \n",
            "4043       21  \n",
            "4190       21  \n",
            "5137       25  \n",
            "\n",
            "[2060 rows x 562 columns]\n"
          ]
        }
      ]
    },
    {
      "cell_type": "code",
      "source": [
        "#Evaluate the model using accuracy, confusion matrix, precision, recall and F1 score\n",
        "accuracy= accuracy_score(y_test,y_pred)\n",
        "precision= precision_score(y_test, y_pred, average='weighted')\n",
        "recall= recall_score(y_test,y_pred, average='weighted')\n",
        "f1 = f1_score(y_test,y_pred, average='weighted')"
      ],
      "metadata": {
        "id": "GUZsLoTGHIpY"
      },
      "execution_count": 7,
      "outputs": []
    },
    {
      "cell_type": "code",
      "source": [
        "print(f\"Accuracy: {accuracy*100:.2f}%\")\n",
        "print(f\"precision: {precision*100:.2f}%\")\n",
        "print(f\"Recall: {recall*100:.2f}%\")\n",
        "print(f\"f1-Score: {f1*100:.2f}%\")"
      ],
      "metadata": {
        "colab": {
          "base_uri": "https://localhost:8080/"
        },
        "id": "EWOFKMo2IIwW",
        "outputId": "041d1da2-9060-465c-a63b-b2f39bed5d8d"
      },
      "execution_count": 8,
      "outputs": [
        {
          "output_type": "stream",
          "name": "stdout",
          "text": [
            "Accuracy: 97.82%\n",
            "precision: 97.82%\n",
            "Recall: 97.82%\n",
            "f1-Score: 97.81%\n"
          ]
        }
      ]
    },
    {
      "cell_type": "code",
      "source": [
        "#visiualize the confusion matrix using seabons heatmap\n",
        "cm= confusion_matrix(y_test,y_pred)\n",
        "sns.heatmap(cm, annot=True, fmt='d')\n",
        "plt.title(\"Confusion Matrix\")\n",
        "plt.show()"
      ],
      "metadata": {
        "colab": {
          "base_uri": "https://localhost:8080/",
          "height": 452
        },
        "id": "PbYhbQuZJwst",
        "outputId": "a9e7464b-f3da-41e0-ba45-3cb32340aedd"
      },
      "execution_count": 9,
      "outputs": [
        {
          "output_type": "display_data",
          "data": {
            "text/plain": [
              "<Figure size 640x480 with 2 Axes>"
            ],
            "image/png": "[encoded data removed]"
          },
          "metadata": {}
        }
      ]
    },
    {
      "cell_type": "code",
      "source": [],
      "metadata": {
        "id": "04Ou6iLmJ6z7"
      },
      "execution_count": null,
      "outputs": []
    }
  ]
}